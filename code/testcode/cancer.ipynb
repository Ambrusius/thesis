{
 "cells": [
  {
   "cell_type": "code",
   "execution_count": 1,
   "metadata": {
    "execution": {
     "iopub.execute_input": "2024-09-10T13:28:46.052582Z",
     "iopub.status.busy": "2024-09-10T13:28:46.052367Z",
     "iopub.status.idle": "2024-09-10T13:31:46.813042Z",
     "shell.execute_reply": "2024-09-10T13:31:46.812111Z"
    }
   },
   "outputs": [
    {
     "name": "stderr",
     "output_type": "stream",
     "text": [
      "[I 2024-09-11 09:11:34,435] A new study created in memory with name: no-name-e4f0a40c-e544-44cd-a4c8-4cfb8e73be27\n"
     ]
    },
    {
     "name": "stdout",
     "output_type": "stream",
     "text": [
      "testing has worked i guess\n",
      "\n",
      " * Initiating LGBMTuner.fit\n",
      "     . Settings:\n",
      "     .. Trying 4 trials\n",
      "     .. Evaluation metric: auc \n",
      "     .. Study direction: minimize log_loss\n",
      "\n"
     ]
    },
    {
     "name": "stderr",
     "output_type": "stream",
     "text": [
      "[I 2024-09-11 09:11:36,251] Trial 0 finished with value: 0.04611294078108581 and parameters: {'feature_fraction': 0.6872700594236812, 'num_leaves': 244}. Best is trial 0 with value: 0.04611294078108581.\n"
     ]
    },
    {
     "name": "stdout",
     "output_type": "stream",
     "text": [
      "     . Trial number: 0 finished\n",
      "     .. Optimization score (lower-better): log_loss: 0.04611294078108581\n",
      "     .. Evaluation score (greater-better): auc: 0.9988805970149254\n",
      " ...........................................................................\n"
     ]
    },
    {
     "name": "stderr",
     "output_type": "stream",
     "text": [
      "[I 2024-09-11 09:11:36,799] Trial 1 finished with value: 0.11532313813853157 and parameters: {'feature_fraction': 0.8659969709057025, 'num_leaves': 159}. Best is trial 0 with value: 0.04611294078108581.\n"
     ]
    },
    {
     "name": "stdout",
     "output_type": "stream",
     "text": [
      "     . Trial number: 1 finished\n",
      "     .. Optimization score (lower-better): log_loss: 0.11532313813853157\n",
      "     .. Evaluation score (greater-better): auc: 0.9865671641791044\n",
      " ...........................................................................\n"
     ]
    },
    {
     "name": "stderr",
     "output_type": "stream",
     "text": [
      "[I 2024-09-11 09:11:37,786] Trial 2 finished with value: 0.11651506870854453 and parameters: {'feature_fraction': 0.5780093202212182, 'num_leaves': 53}. Best is trial 0 with value: 0.04611294078108581.\n"
     ]
    },
    {
     "name": "stdout",
     "output_type": "stream",
     "text": [
      "     . Trial number: 2 finished\n",
      "     .. Optimization score (lower-better): log_loss: 0.11651506870854453\n",
      "     .. Evaluation score (greater-better): auc: 0.9895522388059702\n",
      " ...........................................................................\n"
     ]
    },
    {
     "name": "stderr",
     "output_type": "stream",
     "text": [
      "[I 2024-09-11 09:11:38,550] Trial 3 finished with value: 0.14754942986976172 and parameters: {'feature_fraction': 0.5290418060840998, 'num_leaves': 223}. Best is trial 0 with value: 0.04611294078108581.\n"
     ]
    },
    {
     "name": "stdout",
     "output_type": "stream",
     "text": [
      "     . Trial number: 3 finished\n",
      "     .. Optimization score (lower-better): log_loss: 0.14754942986976172\n",
      "     .. Evaluation score (greater-better): auc: 0.9847014925373134\n",
      " ...........................................................................\n",
      "\n",
      "   - Fitting optimized model with the following params:\n",
      "task                             : train\n",
      "learning_rate                    : 0.01\n",
      "num_leaves                       : 244\n",
      "feature_fraction                 : 0.6872700594236812\n",
      "bagging_fraction                 : 0.7\n",
      "bagging_freq                     : 1\n",
      "max_depth                        : -1\n",
      "verbosity                        : -1\n",
      "lambda_l1                        : 1\n",
      "lambda_l2                        : 0.0\n",
      "min_split_gain                   : 0.0\n",
      "zero_as_missing                  : False\n",
      "max_bin                          : 255\n",
      "min_data_in_bin                  : 3\n",
      "random_state                     : 42\n",
      "device_type                      : cpu\n",
      "num_classes                      : 1\n",
      "objective                        : binary\n",
      "metric                           : binary_logloss\n",
      "num_threads                      : 38\n",
      "num_iterations                   : 2994\n",
      "\n",
      "     . Optuna hyperparameters optimization finished\n",
      "     .. Best trial number: 0    |     log_loss:          0.04611294078108581\n",
      " ---------------------------------------------------------------------------\n",
      "\n",
      "Time elapsed for fit execution: 5.05727 seconds\n",
      "Area under the curve (AUC): 0.9991614255765199\n"
     ]
    }
   ],
   "source": [
    "import pandas as pd\n",
    "from sklearn.datasets import load_breast_cancer\n",
    "from sklearn.model_selection import train_test_split\n",
    "from sklearn.metrics import roc_auc_score\n",
    "from rapidgbm import RapidGBMTuner\n",
    "\n",
    "\n",
    "print('testing has worked i guess')\n",
    "# Load and prepare data\n",
    "X, y = load_breast_cancer(return_X_y=True, as_frame=True)\n",
    "X_train, X_test, y_train, y_test = train_test_split(X, y, random_state=0)\n",
    "\n",
    "# Initialize and fit RapidGBMTuner\n",
    "tuner = RapidGBMTuner(metric='auc', trials=4, verbosity=5, visualization=False)\n",
    "tuner.fit(X_train, y_train)\n",
    "\n",
    "\n",
    "AUC = roc_auc_score(y_test, tuner.predict_proba(X_test))\n",
    "print(\"Area under the curve (AUC):\", AUC)"
   ]
  }
 ],
 "metadata": {
  "kernelspec": {
   "display_name": "initenv",
   "language": "python",
   "name": "python3"
  },
  "language_info": {
   "codemirror_mode": {
    "name": "ipython",
    "version": 3
   },
   "file_extension": ".py",
   "mimetype": "text/x-python",
   "name": "python",
   "nbconvert_exporter": "python",
   "pygments_lexer": "ipython3",
   "version": "3.12.2"
  }
 },
 "nbformat": 4,
 "nbformat_minor": 2
}
