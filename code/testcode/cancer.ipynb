{
 "cells": [
  {
   "cell_type": "code",
   "execution_count": 1,
   "metadata": {},
   "outputs": [
    {
     "name": "stderr",
     "output_type": "stream",
     "text": [
      "/groups/hep/kinch/miniconda3/envs/arnau/lib/python3.10/site-packages/tqdm/auto.py:21: TqdmWarning: IProgress not found. Please update jupyter and ipywidgets. See https://ipywidgets.readthedocs.io/en/stable/user_install.html\n",
      "  from .autonotebook import tqdm as notebook_tqdm\n",
      "[I 2024-09-09 16:36:44,948] A new study created in memory with name: no-name-0363f5b5-74ef-4338-a9fc-2ee4df8631e1\n"
     ]
    },
    {
     "name": "stdout",
     "output_type": "stream",
     "text": [
      "\n",
      " * Initiating LGBMTuner.fit\n",
      "     . Settings:\n",
      "     .. Trying 4 trials\n",
      "     .. Evaluation metric: auc \n",
      "     .. Study direction: minimize log_loss\n",
      "\n"
     ]
    },
    {
     "name": "stderr",
     "output_type": "stream",
     "text": [
      "[I 2024-09-09 16:36:45,775] Trial 0 finished with value: 0.10487317479517452 and parameters: {'feature_fraction': 0.6872700594236812, 'num_leaves': 244}. Best is trial 0 with value: 0.10487317479517452.\n"
     ]
    },
    {
     "name": "stdout",
     "output_type": "stream",
     "text": [
      "     . Trial number: 0 finished\n",
      "     .. Optimization score (lower-better): log_loss: 0.10487317479517452\n",
      "     .. Evaluation score (greater-better): auc: 0.9861940298507462\n",
      " ...........................................................................\n"
     ]
    },
    {
     "name": "stderr",
     "output_type": "stream",
     "text": [
      "[I 2024-09-09 16:36:46,505] Trial 1 finished with value: 0.09271243349831768 and parameters: {'feature_fraction': 0.8659969709057025, 'num_leaves': 159}. Best is trial 1 with value: 0.09271243349831768.\n"
     ]
    },
    {
     "name": "stdout",
     "output_type": "stream",
     "text": [
      "     . Trial number: 1 finished\n",
      "     .. Optimization score (lower-better): log_loss: 0.09271243349831768\n",
      "     .. Evaluation score (greater-better): auc: 0.9906716417910448\n",
      " ...........................................................................\n"
     ]
    },
    {
     "name": "stderr",
     "output_type": "stream",
     "text": [
      "[I 2024-09-09 16:36:47,274] Trial 2 finished with value: 0.16844546991928686 and parameters: {'feature_fraction': 0.5780093202212182, 'num_leaves': 53}. Best is trial 1 with value: 0.09271243349831768.\n"
     ]
    },
    {
     "name": "stdout",
     "output_type": "stream",
     "text": [
      "     . Trial number: 2 finished\n",
      "     .. Optimization score (lower-better): log_loss: 0.16844546991928686\n",
      "     .. Evaluation score (greater-better): auc: 0.9783582089552239\n",
      " ...........................................................................\n"
     ]
    },
    {
     "name": "stderr",
     "output_type": "stream",
     "text": [
      "[I 2024-09-09 16:36:48,724] Trial 3 finished with value: 0.06768753811281321 and parameters: {'feature_fraction': 0.5290418060840998, 'num_leaves': 223}. Best is trial 3 with value: 0.06768753811281321.\n"
     ]
    },
    {
     "name": "stdout",
     "output_type": "stream",
     "text": [
      "     . Trial number: 3 finished\n",
      "     .. Optimization score (lower-better): log_loss: 0.06768753811281321\n",
      "     .. Evaluation score (greater-better): auc: 0.9973880597014926\n",
      " ...........................................................................\n",
      "\n",
      "   - Fitting optimized model with the following params:\n",
      "task                             : train\n",
      "learning_rate                    : 0.01\n",
      "num_leaves                       : 223\n",
      "feature_fraction                 : 0.5290418060840998\n",
      "bagging_fraction                 : 0.7\n",
      "bagging_freq                     : 1\n",
      "max_depth                        : -1\n",
      "verbosity                        : -1\n",
      "lambda_l1                        : 1\n",
      "lambda_l2                        : 0.0\n",
      "min_split_gain                   : 0.0\n",
      "zero_as_missing                  : False\n",
      "max_bin                          : 255\n",
      "min_data_in_bin                  : 3\n",
      "random_state                     : 42\n",
      "device_type                      : cpu\n",
      "num_classes                      : 1\n",
      "objective                        : binary\n",
      "metric                           : binary_logloss\n",
      "num_threads                      : 38\n",
      "num_iterations                   : 2995\n",
      "\n",
      "     . Optuna hyperparameters optimization finished\n",
      "     .. Best trial number: 3    |     log_loss:          0.06768753811281321\n",
      " ---------------------------------------------------------------------------\n",
      "\n",
      "Time elapsed for fit execution: 4.83378 seconds\n",
      "Area under the curve (AUC): 0.9989517819706499\n"
     ]
    }
   ],
   "source": [
    "import pandas as pd\n",
    "from sklearn.datasets import load_breast_cancer\n",
    "from sklearn.model_selection import train_test_split\n",
    "from sklearn.metrics import roc_auc_score\n",
    "from rapidgbm import RapidGBMTuner\n",
    "\n",
    "# Load and prepare data\n",
    "X, y = load_breast_cancer(return_X_y=True, as_frame=True)\n",
    "X_train, X_test, y_train, y_test = train_test_split(X, y, random_state=0)\n",
    "\n",
    "# Initialize and fit RapidGBMTuner\n",
    "tuner = RapidGBMTuner(metric='auc', trials=4, verbosity=5, visualization=False)\n",
    "tuner.fit(X_train, y_train)\n",
    "\n",
    "\n",
    "AUC = roc_auc_score(y_test, tuner.predict_proba(X_test))\n",
    "print(\"Area under the curve (AUC):\", AUC)"
   ]
  }
 ],
 "metadata": {
  "kernelspec": {
   "display_name": "initenv",
   "language": "python",
   "name": "python3"
  },
  "language_info": {
   "codemirror_mode": {
    "name": "ipython",
    "version": 3
   },
   "file_extension": ".py",
   "mimetype": "text/x-python",
   "name": "python",
   "nbconvert_exporter": "python",
   "pygments_lexer": "ipython3",
   "version": "3.10.13"
  }
 },
 "nbformat": 4,
 "nbformat_minor": 2
}
