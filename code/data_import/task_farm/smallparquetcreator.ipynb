{
 "cells": [
  {
   "cell_type": "code",
   "execution_count": 2,
   "metadata": {},
   "outputs": [],
   "source": [
    "import numpy as np\n",
    "import pandas as pd\n",
    "# import uproot\n",
    "import pyarrow.parquet as pq\n",
    "import awkward_pandas as akpd\n",
    "\n",
    "path = '/groups/hep/kinch/H_Zg/samples_processed/HZeeg_ggF_MC_reduced_28august_131var.parquet'\n",
    "\n",
    "sample = pd.read_parquet(path)\n",
    "\n",
    "small_sample = sample.sample(1000)\n",
    "\n",
    "small_sample.to_parquet('/groups/hep/kinch/H_Zg/samples_processed/HZeeg_ggF_MC_reduced_28august_131var_small.parquet')"
   ]
  }
 ],
 "metadata": {
  "kernelspec": {
   "display_name": "base",
   "language": "python",
   "name": "python3"
  },
  "language_info": {
   "codemirror_mode": {
    "name": "ipython",
    "version": 3
   },
   "file_extension": ".py",
   "mimetype": "text/x-python",
   "name": "python",
   "nbconvert_exporter": "python",
   "pygments_lexer": "ipython3",
   "version": "3.12.2"
  }
 },
 "nbformat": 4,
 "nbformat_minor": 2
}
