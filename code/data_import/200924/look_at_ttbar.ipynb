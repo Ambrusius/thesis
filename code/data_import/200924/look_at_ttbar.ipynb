{
 "cells": [
  {
   "cell_type": "code",
   "execution_count": 8,
   "metadata": {},
   "outputs": [],
   "source": [
    "import numpy as np\n",
    "import pandas as pd\n",
    "import uproot\n",
    "import pyarrow.parquet as pq\n",
    "import awkward_pandas as akpd\n",
    "import itertools\n",
    "import mplhep as hep\n",
    "import multiprocessing as mp\n",
    "import time\n",
    "import matplotlib.pyplot as plt\n",
    "from pathlib import Path"
   ]
  },
  {
   "cell_type": "code",
   "execution_count": 3,
   "metadata": {},
   "outputs": [],
   "source": [
    "test = pd.read_parquet('/groups/hep/kinch/H_Zg/samples_processed/ttbar/._000049.pool.HZmmg_ggF_lessreducedMC_7.parquet')"
   ]
  },
  {
   "cell_type": "code",
   "execution_count": 5,
   "metadata": {},
   "outputs": [
    {
     "name": "stdout",
     "output_type": "stream",
     "text": [
      "runNumber eventNumber mcEventNumber actualInteractionsPerCrossing averageInteractionsPerCrossing mcEventWeights truthel_m truthel_px truthel_py truthel_pz truthel_E truthel_pdgId truthel_ptcone30 truthel_etcone20 truthel_ParticleOrigin truthel_Classification truthel_barcode truthel_status truthel_e_dressed truthel_pt_dressed truthel_eta_dressed truthel_phi_dressed truthel_nPhotons_dressed el_pt el_eta el_phi el_m el_charge el_ptvarcone20 el_topoetcone20 el_topoetcone40 el_f1 el_truthType el_truthOrigin el_neflowisol20 el_ptvarcone30_Nonprompt_All_MaxWeightTTVALooseCone_pt1000 el_ptcone20_Nonprompt_All_MaxWeightTTVALooseCone_pt1000 el_core57cellsEnergyCorrection el_topoetcone20ptCorrection el_ptcone20_Nonprompt_All_MaxWeightTTVALooseCone_pt500 el_ptvarcone30_Nonprompt_All_MaxWeightTTVALooseCone_pt500 el_DFCommonElectronsLHVeryLoose el_DFCommonElectronsLHVeryLooseIsEMValue el_DFCommonElectronsLHLoose el_DFCommonElectronsLHLooseIsEMValue el_DFCommonElectronsLHLooseBL el_DFCommonElectronsLHLooseBLIsEMValue el_DFCommonElectronsLHMedium el_DFCommonElectronsLHMediumIsEMValue el_DFCommonElectronsLHTight el_DFCommonElectronsLHTightIsEMValue el_DFCommonElectronsDNNLoose el_DFCommonElectronsDNNLooseIsEMValue el_DFCommonElectronsDNN_pel el_DFCommonElectronsDNN_pcf el_DFCommonElectronsDNN_ppc el_DFCommonElectronsDNN_phf el_DFCommonElectronsDNN_ple el_DFCommonElectronsDNN_plh el_DFCommonElectronsDNNMedium el_DFCommonElectronsDNNMediumIsEMValue el_DFCommonElectronsDNNTight el_DFCommonElectronsDNNTightIsEMValue el_truthPdgId el_firstEgMotherTruthType el_firstEgMotherTruthOrigin el_DFCommonElectronsECIDS el_DFCommonElectronsECIDSResult ph_pt ph_eta ph_phi ph_m ph_ptcone20 ph_topoetcone20 ph_topoetcone40 ph_f1 ph_truthType ph_truthOrigin ph_neflowisol20 ph_author ph_OQ ph_Tight ph_ambiguityType ph_core57cellsEnergyCorrection ph_topoetcone20ptCorrection ph_topoetcone30 ph_topoetcone30ptCorrection ph_topoetcone40ptCorrection ph_DFCommonPhotonsIsEMLoose ph_DFCommonPhotonsIsEMTight ph_DFCommonPhotonsIsEMTightIsEMValue ph_DFCommonPhotonsCleaning ph_DFCommonPhotonsCleaningNoTime ph_DFCommonCrackVetoCleaning ph_Eadded_Lr2 ph_Eadded_Lr3 truthph_m truthph_px truthph_py truthph_pz truthph_E truthph_pdgId truthph_ptcone20 truthph_etcone20 truthph_classifierParticleOrigin truthph_Classification truthph_barcode truthph_status truthph_classifierParticleType truthph_classifierParticleOutCome truthph_polarizationPhi truthph_polarizationTheta truthph_etcone40 mu_pt mu_eta mu_phi mu_charge mu_truthType mu_truthOrigin GSFTrackParticlesAuxDyn_d0 GSFTrackParticlesAuxDyn_z0 GSFTrackParticlesAuxDyn_theta GSFTrackParticlesAuxDyn_definingParametersCovMatrixDiag GSFTrackParticlesAuxDyn_phi GSFTrackParticlesAuxDyn_qOverP mu_ptcone20 mu_ptvarcone20 mu_ptcone30 mu_ptvarcone30 mu_topoetcone20 mu_topoetcone40 mu_author mu_allauthors mu_type mu_enegylosstype mu_quality mu_ptcone40 mu_ptvarcone40 mu_DFCommonMuonPassIDCuts mu_DFCommonJetDr InDetTrack_d0 InDetTrack_z0 InDetTrack_theta InDetTrack_covdiag InDetTrack_phi mu_numprecisionlayers mu_numprecisionholelayers mu_caloLRlikelihood mu_CaloMuonIDTag mu_neflowisol20\n"
     ]
    }
   ],
   "source": [
    "print(*test.columns)"
   ]
  },
  {
   "cell_type": "code",
   "execution_count": 6,
   "metadata": {},
   "outputs": [
    {
     "name": "stdout",
     "output_type": "stream",
     "text": [
      "[10, 5, 0, 0, 0, 0, 0, 0, 0, 0, 0, 0]\n"
     ]
    }
   ],
   "source": [
    "row = test.iloc[0]\n",
    "print(row['el_truthOrigin'])"
   ]
  },
  {
   "cell_type": "code",
   "execution_count": 12,
   "metadata": {},
   "outputs": [
    {
     "name": "stdout",
     "output_type": "stream",
     "text": [
      "/groups/hep/kinch/H_Zg/samples_processed/ttbar/._000055.pool.HZmmg_ggF_lessreducedMC_8.parquet\n",
      "/groups/hep/kinch/H_Zg/samples_processed/ttbar/._000214.pool.HZmmg_ggF_lessreducedMC_2.parquet\n",
      "/groups/hep/kinch/H_Zg/samples_processed/ttbar/._000171.pool.HZmmg_ggF_lessreducedMC_4.parquet\n",
      "/groups/hep/kinch/H_Zg/samples_processed/ttbar/._000123.pool.HZmmg_ggF_lessreducedMC_3.parquet\n",
      "/groups/hep/kinch/H_Zg/samples_processed/ttbar/._000192.pool.HZmmg_ggF_lessreducedMC_9.parquet\n",
      "/groups/hep/kinch/H_Zg/samples_processed/ttbar/._000148.pool.HZmmg_ggF_lessreducedMC_5.parquet\n",
      "/groups/hep/kinch/H_Zg/samples_processed/ttbar/._000049.pool.HZmmg_ggF_lessreducedMC_7.parquet\n",
      "/groups/hep/kinch/H_Zg/samples_processed/ttbar/._000188.pool.HZmmg_ggF_lessreducedMC_1.parquet\n",
      "/groups/hep/kinch/H_Zg/samples_processed/ttbar/._000085.pool.HZmmg_ggF_lessreducedMC_10.parquet\n",
      "/groups/hep/kinch/H_Zg/samples_processed/ttbar/._000066.pool.HZmmg_ggF_lessreducedMC_6.parquet\n"
     ]
    }
   ],
   "source": [
    "file_path = '/groups/hep/kinch/H_Zg/samples_processed/ttbar/'\n",
    "pathlist = Path(file_path).rglob('*.parquet')\n",
    "for path in pathlist:\n",
    "    print(path)"
   ]
  }
 ],
 "metadata": {
  "kernelspec": {
   "display_name": "base",
   "language": "python",
   "name": "python3"
  },
  "language_info": {
   "codemirror_mode": {
    "name": "ipython",
    "version": 3
   },
   "file_extension": ".py",
   "mimetype": "text/x-python",
   "name": "python",
   "nbconvert_exporter": "python",
   "pygments_lexer": "ipython3",
   "version": "3.12.2"
  }
 },
 "nbformat": 4,
 "nbformat_minor": 2
}
