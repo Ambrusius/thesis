{
 "cells": [
  {
   "cell_type": "code",
   "execution_count": 1,
   "metadata": {},
   "outputs": [],
   "source": [
    "import numpy as np\n",
    "import pandas as pd\n",
    "import uproot\n",
    "import pyarrow.parquet as pq\n",
    "import awkward_pandas as akpd\n",
    "import itertools\n",
    "import mplhep as hep\n",
    "hep.style.use([hep.style.ATLAS])\n",
    "import matplotlib.pyplot as plt\n",
    "import time"
   ]
  },
  {
   "cell_type": "code",
   "execution_count": 5,
   "metadata": {},
   "outputs": [
    {
     "name": "stdout",
     "output_type": "stream",
     "text": [
      "(80000, 131)\n"
     ]
    }
   ],
   "source": [
    "if True:\n",
    "    path = '/groups/hep/kinch/H_Zg/samples_processed/HZmmg_ggF_MC_reduced_11sep_157var.parquet'\n",
    "else:\n",
    "    path = 'c:/Users/Jens/Documents/Github/Thesis/samples_processed/HZeeg_ggF_MC_reduced_28august_131var.parquet'\n",
    "\n",
    "sample = pd.read_parquet(path) \n",
    "print(sample.shape)"
   ]
  },
  {
   "cell_type": "code",
   "execution_count": 3,
   "metadata": {},
   "outputs": [
    {
     "name": "stdout",
     "output_type": "stream",
     "text": [
      "(100, 131)\n"
     ]
    }
   ],
   "source": [
    "sample_small = sample.head(100)\n",
    "print(sample_small.shape)"
   ]
  },
  {
   "cell_type": "code",
   "execution_count": 4,
   "metadata": {},
   "outputs": [
    {
     "name": "stdout",
     "output_type": "stream",
     "text": [
      "Headers:\n",
      "runNumber, 410000, <class 'numpy.uint32'>\n",
      "eventNumber, 106246, <class 'numpy.uint64'>\n",
      "mcEventNumber, 106246, <class 'numpy.uint64'>\n",
      "actualInteractionsPerCrossing, 49.5, <class 'numpy.float32'>\n",
      "averageInteractionsPerCrossing, 49.5, <class 'numpy.float32'>\n",
      "mcEventWeights, [31, 31, 19.5, 29.4, 29, 19.8, 32.4, ..., 27.7, 29.9, 31, 31, 31.6, 30.4, -310], <class 'awkward.highlevel.Array'>\n",
      "truthel_m, [0.511, 0.511], <class 'awkward.highlevel.Array'>\n",
      "truthel_px, [-52, -108], <class 'awkward.highlevel.Array'>\n",
      "truthel_py, [6.92, 13.4], <class 'awkward.highlevel.Array'>\n",
      "truthel_pz, [-26.6, -51.7], <class 'awkward.highlevel.Array'>\n",
      "truthel_E, [58.8, 120], <class 'awkward.highlevel.Array'>\n",
      "truthel_pdgId, [11, -11], <class 'awkward.highlevel.Array'>\n",
      "truthel_ptcone30, [-1, -1], <class 'awkward.highlevel.Array'>\n",
      "truthel_etcone20, [-1, -1], <class 'awkward.highlevel.Array'>\n",
      "truthel_ParticleOrigin, [6, 6], <class 'awkward.highlevel.Array'>\n",
      "truthel_Classification, [132, 132], <class 'awkward.highlevel.Array'>\n",
      "truthel_barcode, [1388, 1389], <class 'awkward.highlevel.Array'>\n",
      "truthel_status, [1, 1], <class 'awkward.highlevel.Array'>\n",
      "truthel_e_dressed, [58.8, 120], <class 'awkward.highlevel.Array'>\n",
      "truthel_pt_dressed, [52.5, 109], <class 'awkward.highlevel.Array'>\n",
      "truthel_eta_dressed, [-0.486, -0.46], <class 'awkward.highlevel.Array'>\n",
      "truthel_phi_dressed, [3.01, 3.02], <class 'awkward.highlevel.Array'>\n",
      "truthel_nPhotons_dressed, [0, 0], <class 'awkward.highlevel.Array'>\n",
      "el_pt, [5.23e+03, 4.45e+03, 3.47e+03, 1.95e+03, 2.45e+03], <class 'awkward.highlevel.Array'>\n",
      "el_eta, [0.139, -2.26, -0.399, 2.46, 0.139], <class 'awkward.highlevel.Array'>\n",
      "el_phi, [1.5, -1.02, 2.1, -2.13, 1.5], <class 'awkward.highlevel.Array'>\n",
      "el_m, [0.511, 0.511, 0.511, 0.511, 0.511], <class 'awkward.highlevel.Array'>\n",
      "el_charge, [-1, 1, -1, -1, -1], <class 'awkward.highlevel.Array'>\n",
      "el_ptvarcone20, [0, 0, 0, 0, 0], <class 'awkward.highlevel.Array'>\n",
      "el_topoetcone20, [-908, -2.15e+03, 3.32e+03, -858, -1e+03], <class 'awkward.highlevel.Array'>\n",
      "el_topoetcone40, [-689, -333, 4.17e+03, 2.37e+03, 4.74e+03], <class 'awkward.highlevel.Array'>\n",
      "el_f1, [0.509, 0.32, 0.474, 0, 0.00634], <class 'awkward.highlevel.Array'>\n",
      "el_truthType, [0, 0, 0, 17, 0], <class 'awkward.highlevel.Array'>\n",
      "el_truthOrigin, [0, 0, 0, 0, 0], <class 'awkward.highlevel.Array'>\n",
      "el_neflowisol20, [-386, 752, 5.94e+03, -358, -386], <class 'awkward.highlevel.Array'>\n",
      "el_ptvarcone30_Nonprompt_All_MaxWeightTTVALooseCone_pt1000, [0, 1.26e+03, 0, 0, 0], <class 'awkward.highlevel.Array'>\n",
      "el_ptcone20_Nonprompt_All_MaxWeightTTVALooseCone_pt1000, [0, 0, 0, 0, 0], <class 'awkward.highlevel.Array'>\n",
      "el_ptvarcone30_Nonprompt_All_MaxWeightTTVALooseCone_pt1000_CloseByCorr, [0, 1.26e+03, 0, 0, 0], <class 'awkward.highlevel.Array'>\n",
      "el_topoetcone20_CloseByCorr, [-908, -2.15e+03, 3.32e+03, -858, -1e+03], <class 'awkward.highlevel.Array'>\n",
      "el_ptcone20_Nonprompt_All_MaxWeightTTVALooseCone_pt1000_CloseByCorr, [0, 0, 0, 0, 0], <class 'awkward.highlevel.Array'>\n",
      "el_core57cellsEnergyCorrection, [4.09e+03, 9.5e+03, 9.85e+03, 2.63e+03, 1.85e+03], <class 'awkward.highlevel.Array'>\n",
      "el_topoetcone20ptCorrection, [696, 442, 659, 368, 643], <class 'awkward.highlevel.Array'>\n",
      "el_ptcone20_Nonprompt_All_MaxWeightTTVALooseCone_pt500, [0, 0, 0, 532, 0], <class 'awkward.highlevel.Array'>\n",
      "el_ptvarcone30_Nonprompt_All_MaxWeightTTVALooseCone_pt500, [0, 1.26e+03, 0, 1.44e+03, 0], <class 'awkward.highlevel.Array'>\n",
      "el_DFCommonElectronsLHVeryLoose, [0, 0, 0, 0, 0], <class 'awkward.highlevel.Array'>\n",
      "el_DFCommonElectronsLHVeryLooseIsEMValue, [32, 32, 32, 32, 32], <class 'awkward.highlevel.Array'>\n",
      "el_DFCommonElectronsLHLoose, [0, 0, 0, 0, 0], <class 'awkward.highlevel.Array'>\n",
      "el_DFCommonElectronsLHLooseIsEMValue, [32, 32, 32, 32, 32], <class 'awkward.highlevel.Array'>\n",
      "el_DFCommonElectronsLHLooseBL, [0, 0, 0, 0, 0], <class 'awkward.highlevel.Array'>\n",
      "el_DFCommonElectronsLHLooseBLIsEMValue, [32, 32, 32, 40, 32], <class 'awkward.highlevel.Array'>\n",
      "el_DFCommonElectronsLHMedium, [0, 0, 0, 0, 0], <class 'awkward.highlevel.Array'>\n",
      "el_DFCommonElectronsLHMediumIsEMValue, [32, 32, 32, 40, 32], <class 'awkward.highlevel.Array'>\n",
      "el_DFCommonElectronsLHTight, [0, 0, 0, 0, 0], <class 'awkward.highlevel.Array'>\n",
      "el_DFCommonElectronsLHTightIsEMValue, [48, 48, 48, 40, 48], <class 'awkward.highlevel.Array'>\n",
      "el_DFCommonElectronsDNNLoose, [1, 1, 1, 1, 1], <class 'awkward.highlevel.Array'>\n",
      "el_DFCommonElectronsDNNLooseIsEMValue, [0, 0, 0, 0, 0], <class 'awkward.highlevel.Array'>\n",
      "el_DFCommonElectronsDNN_pel, [0.000784, 2.03e-05, 5.51e-05, 2.24e-05, 0.0467], <class 'awkward.highlevel.Array'>\n",
      "el_DFCommonElectronsDNN_pcf, [0.00341, 0.000113, 0.00122, 0.0039, 0.424], <class 'awkward.highlevel.Array'>\n",
      "el_DFCommonElectronsDNN_ppc, [0.00375, 0.102, 0.114, 0.00881, 0.139], <class 'awkward.highlevel.Array'>\n",
      "el_DFCommonElectronsDNN_phf, [0.0051, 0.175, 0.406, 0.029, 0.0127], <class 'awkward.highlevel.Array'>\n",
      "el_DFCommonElectronsDNN_ple, [0.798, 0.333, 0.445, 0.0463, 0.188], <class 'awkward.highlevel.Array'>\n",
      "el_DFCommonElectronsDNN_plh, [0.189, 0.39, 0.034, 0.912, 0.189], <class 'awkward.highlevel.Array'>\n",
      "el_DFCommonElectronsDNNMedium, [1, 1, 1, 1, 1], <class 'awkward.highlevel.Array'>\n",
      "el_DFCommonElectronsDNNMediumIsEMValue, [0, 0, 0, 0, 0], <class 'awkward.highlevel.Array'>\n",
      "el_DFCommonElectronsDNNTight, [1, 1, 1, 1, 1], <class 'awkward.highlevel.Array'>\n",
      "el_DFCommonElectronsDNNTightIsEMValue, [0, 0, 0, 0, 0], <class 'awkward.highlevel.Array'>\n",
      "el_truthPdgId, [0, 0, 0, -211, 0], <class 'awkward.highlevel.Array'>\n",
      "el_firstEgMotherTruthType, [0, 0, 0, 0, 0], <class 'awkward.highlevel.Array'>\n",
      "el_firstEgMotherTruthOrigin, [0, 0, 0, 0, 0], <class 'awkward.highlevel.Array'>\n",
      "el_DFCommonElectronsECIDS, [0, 0, 0, 0, 1], <class 'awkward.highlevel.Array'>\n",
      "el_DFCommonElectronsECIDSResult, [-0.666, -0.348, -0.564, -0.919, 0.324], <class 'awkward.highlevel.Array'>\n",
      "ph_pt, [8.27e+03, 3.67e+03, 5.24e+03, 4.21e+03, ..., 2.21e+03, 1.8e+03, 1.72e+03], <class 'awkward.highlevel.Array'>\n",
      "ph_eta, [1.91, -0.466, 0.173, -2.27, -0.45, 2.45, ..., -2.21, -1.95, -2.42, 0.362, 1.04], <class 'awkward.highlevel.Array'>\n",
      "ph_phi, [3.13, 2.32, 1.53, -1.06, 2.21, -2.09, ..., -2.02, 2.28, -2.29, -1.97, 0.275], <class 'awkward.highlevel.Array'>\n",
      "ph_m, [0, 0, 0, 0, 0, 0, 0, 0, 0, 0, 0, 0, 0, 0, 0, 0, 0], <class 'awkward.highlevel.Array'>\n",
      "ph_ptcone20, [0, 0, 0, 0, 0, 0, 0, 0, 0, 0, 0, 3.17e+03, 0, 0, 4.51e+03, 0, 0], <class 'awkward.highlevel.Array'>\n",
      "ph_topoetcone20, [-826, 3.58e+03, -213, -1.72e+03, 3.98e+03, -489, ..., 995, -787, 502, 458, 659], <class 'awkward.highlevel.Array'>\n",
      "ph_topoetcone40, [393, 6.96e+03, 727, 189, 5.56e+03, ..., -2.25e+03, 3.86e+03, 408, -1.22e+03], <class 'awkward.highlevel.Array'>\n",
      "ph_f1, [0.494, 0.283, 0.509, 0.32, 0.474, 0, ..., 0.616, 0.151, 0, 0.354, -0.0245], <class 'awkward.highlevel.Array'>\n",
      "ph_truthType, [14, 0, 0, 0, 0, 17, 0, 0, 0, 0, 0, 17, 0, 0, 0, 16, 17], <class 'awkward.highlevel.Array'>\n",
      "ph_truthOrigin, [14, 0, 0, 0, 0, 0, 0, 0, 0, 0, 0, 0, 0, 0, 0, 42, 0], <class 'awkward.highlevel.Array'>\n",
      "ph_neflowisol20, [-358, 5.94e+03, -386, -65.4, 1.05e+04, -358, ..., 651, 279, -358, 90, 762, 472], <class 'awkward.highlevel.Array'>\n",
      "ph_topoetcone20_CloseByCorr, [-826, 3.58e+03, -213, -1.72e+03, 3.98e+03, -489, ..., 995, -787, 502, 458, 659], <class 'awkward.highlevel.Array'>\n",
      "ph_ptcone20_CloseByCorr, [0, 0, 0, 0, 0, 0, 0, 0, 0, 0, 0, 3.17e+03, 0, 0, 4.51e+03, 0, 0], <class 'awkward.highlevel.Array'>\n",
      "ph_topoetcone40_CloseByCorr, [393, 6.96e+03, 727, 189, 5.56e+03, ..., -2.25e+03, 3.86e+03, 408, -1.22e+03], <class 'awkward.highlevel.Array'>\n",
      "ph_author, [4, 4, 16, 16, 16, 16, 4, 4, 4, 16, 4, 4, 4, 4, 4, 4, 4], <class 'awkward.highlevel.Array'>\n",
      "ph_OQ, [0, 67633152, 0, 67895296, 524288, 524288, ..., 524288, 786432, 0, 524288, 0, 0], <class 'awkward.highlevel.Array'>\n",
      "ph_Tight, [0, 0, 0, 0, 0, 0, 0, 0, 0, 0, 0, 0, 0, 0, 0, 0, 0], <class 'awkward.highlevel.Array'>\n",
      "ph_ambiguityType, [7, 7, 2, 2, 2, 1, 7, 7, 7, 2, 7, 7, 7, 7, 7, 7, 7], <class 'awkward.highlevel.Array'>\n",
      "ph_core57cellsEnergyCorrection, [7.5e+03, 7.82e+03, 4.09e+03, 9.5e+03, ..., 1.67e+03, 1.95e+03, 1.58e+03], <class 'awkward.highlevel.Array'>\n",
      "ph_topoetcone20ptCorrection, [32, 0.44, 0.501, 17.2, 0.153, 0, 1.12, ..., 4.23, 6.74, 1.77, 0, 0.0558, 0.199], <class 'awkward.highlevel.Array'>\n",
      "ph_topoetcone30, [-241, 8.26e+03, 1.47e+03, -332, 4.4e+03, ..., -1.44e+03, 575, 106, -146], <class 'awkward.highlevel.Array'>\n",
      "ph_topoetcone30ptCorrection, [32.1, 0.444, 0.505, 16.4, 0.154, 0, ..., 3.93, 6.32, 1.77, 0, 0.0564, 0.209], <class 'awkward.highlevel.Array'>\n",
      "ph_topoetcone40ptCorrection, [32.1, 0.443, 0.505, 16.4, 0.154, 0, ..., 3.93, 6.32, 1.77, 0, 0.0564, 0.209], <class 'awkward.highlevel.Array'>\n",
      "ph_DFCommonPhotonsIsEMLoose, [1, 0, 1, 0, 0, 0, 0, 0, 0, 1, 0, 0, 0, 0, 0, 0, 0], <class 'awkward.highlevel.Array'>\n",
      "ph_DFCommonPhotonsIsEMTight, [0, 0, 0, 0, 0, 0, 0, 0, 0, 0, 0, 0, 0, 0, 0, 0, 0], <class 'awkward.highlevel.Array'>\n",
      "ph_DFCommonPhotonsIsEMTightIsEMValue, [3678208, 29696, 2621440, 2126848, ..., 3166208, 2142208, 2634752, 2142208], <class 'awkward.highlevel.Array'>\n",
      "ph_DFCommonPhotonsCleaning, [1, 1, 1, 1, 1, 1, 1, 1, 1, 1, 1, 1, 1, 1, 1, 1, 1], <class 'awkward.highlevel.Array'>\n",
      "ph_DFCommonPhotonsCleaningNoTime, [1, 1, 1, 1, 1, 1, 1, 1, 1, 1, 1, 1, 1, 1, 1, 1, 1], <class 'awkward.highlevel.Array'>\n",
      "ph_DFCommonCrackVetoCleaning, [1, 1, 1, 1, 1, 1, 1, 1, 1, 1, 1, 1, 1, 1, 1, 1, 1], <class 'awkward.highlevel.Array'>\n",
      "ph_Eadded_Lr2, [114, 1.95e+03, 0, 1.51e+04, 2.77e+03, 170, 0, 0, ..., 0, 0, 0, 0, 0, 0, 0, 0], <class 'awkward.highlevel.Array'>\n",
      "ph_Eadded_Lr3, [0, 0, 0, 666, 0, 0, 0, 0, 0, 0, 0, 0, -95.7, 0, 0, 0, 0], <class 'awkward.highlevel.Array'>\n",
      "truthph_m, [0, 0, 0, 0, 0], <class 'awkward.highlevel.Array'>\n",
      "truthph_px, [52.7, 74.6, -28.1, -9.17e+03, -6.87], <class 'awkward.highlevel.Array'>\n",
      "truthph_py, [-124, -69.6, 11.4, 62.4, -0.565], <class 'awkward.highlevel.Array'>\n",
      "truthph_pz, [2.26e+04, -15.8, 6.26, 3.06e+04, -19.2], <class 'awkward.highlevel.Array'>\n",
      "truthph_E, [2.26e+04, 103, 30.9, 3.19e+04, 20.4], <class 'awkward.highlevel.Array'>\n",
      "truthph_pdgId, [22, 22, 22, 22, 22], <class 'awkward.highlevel.Array'>\n",
      "truthph_ptcone20, [-1, -1, -1, 876, 0], <class 'awkward.highlevel.Array'>\n",
      "truthph_etcone20, [-1, -1, -1, 1.07e+03, 146], <class 'awkward.highlevel.Array'>\n",
      "truthph_classifierParticleOrigin, [24, 31, 31, 14, 40], <class 'awkward.highlevel.Array'>\n",
      "truthph_Classification, [132, 132, 132, 128, 128], <class 'awkward.highlevel.Array'>\n",
      "truthph_barcode, [705, 883, 885, 1947, 2150], <class 'awkward.highlevel.Array'>\n",
      "truthph_status, [1, 1, 1, 1, 1], <class 'awkward.highlevel.Array'>\n",
      "truthph_classifierParticleType, [16, 16, 16, 14, 15], <class 'awkward.highlevel.Array'>\n",
      "truthph_classifierParticleOutCome, [2, 2, 2, 1, 2], <class 'awkward.highlevel.Array'>\n",
      "truthph_polarizationPhi, [0, 0, 0, 0, 0], <class 'awkward.highlevel.Array'>\n",
      "truthph_polarizationTheta, [0, 0, 0, 0, 0], <class 'awkward.highlevel.Array'>\n",
      "truthph_etcone40, [-1, -1, -1, 3.36e+03, 911], <class 'awkward.highlevel.Array'>\n",
      "mu_pt, [2.27e+04, 1.76e+04], <class 'awkward.highlevel.Array'>\n",
      "mu_eta, [0.893, -1.96], <class 'awkward.highlevel.Array'>\n",
      "mu_phi, [1.45, -2.46], <class 'awkward.highlevel.Array'>\n",
      "mu_charge, [1, -1], <class 'awkward.highlevel.Array'>\n",
      "mu_truthType, [6, 6], <class 'awkward.highlevel.Array'>\n",
      "mu_truthOrigin, [13, 13], <class 'awkward.highlevel.Array'>\n",
      "GSFTrackParticlesAuxDyn_d0, [0.134, 0.177, 2.27, -1.81], <class 'awkward.highlevel.Array'>\n",
      "GSFTrackParticlesAuxDyn_z0, [85.3, 72, -51.3, -12.6], <class 'awkward.highlevel.Array'>\n",
      "GSFTrackParticlesAuxDyn_theta, [2.93, 1.43, 0.171, 1.96], <class 'awkward.highlevel.Array'>\n",
      "GSFTrackParticlesAuxDyn_definingParametersCovMatrixDiag, [[0.0598, 0.541, 8.12e-05, 9.08e-07, 1.1e-09], ..., [0.0167, ..., 2.07e-09]], <class 'awkward.highlevel.Array'>\n",
      "GSFTrackParticlesAuxDyn_phi, [-1.02, 1.5, -2.13, 2.1], <class 'awkward.highlevel.Array'>\n",
      "GSFTrackParticlesAuxDyn_qOverP, [0.000326, -0.00138, -5.65e-05, -0.00104], <class 'awkward.highlevel.Array'>\n"
     ]
    }
   ],
   "source": [
    "headers = sample.columns\n",
    "print(\"Headers:\")\n",
    "for header in headers:\n",
    "    # print(header)\n",
    "    print(f'{header}, {sample[header].iloc[108]}, {type(sample[header].iloc[108])}')\n",
    "    # first_index_shape = sample[header].iloc[0].shape if isinstance(sample[header].iloc[0], (pd.Series, np.ndarray)) else None\n",
    "    #print(\"Shape of the first index:\", first_index_shape)\n"
   ]
  },
  {
   "cell_type": "code",
   "execution_count": null,
   "metadata": {},
   "outputs": [],
   "source": [
    "def GSF_Track_finder(row):\n",
    "    num_electrons = len(row[\"mu_truthOrigin\"])\n",
    "    dR_min = np.ones(num_electrons)*999\n",
    "    GSF_index = np.ones(num_electrons,dtype=int)*-1\n",
    "    for i_el in range(num_electrons):\n",
    "        NGSF = len(row[\"GSFTrackParticlesAuxDyn_theta\"])\n",
    "        for i_GSF in range(NGSF):\n",
    "            eta_GSF = -np.log(np.tan(row['GSFTrackParticlesAuxDyn_theta'][i_GSF]/2))\n",
    "            deta = row['el_eta'][i_el] - eta_GSF\n",
    "            dphi = row['el_phi'][i_el] - row['GSFTrackParticlesAuxDyn_phi'][i_GSF]\n",
    "            if (dphi > np.pi) : dphi = dphi - np.pi\n",
    "            if (dphi < -np.pi) : dphi = dphi + np.pi\n",
    "            dR_eG = np.sqrt(deta**2 + dphi**2)\n",
    "            if (dR_eG < dR_min[i_el]):\n",
    "                dR_min[i_el] = dR_eG\n",
    "                GSF_index[i_el] = i_GSF\n",
    "    return GSF_index, dR_min"
   ]
  },
  {
   "cell_type": "code",
   "execution_count": null,
   "metadata": {},
   "outputs": [],
   "source": [
    "sample_small = sample"
   ]
  },
  {
   "cell_type": "code",
   "execution_count": null,
   "metadata": {},
   "outputs": [],
   "source": [
    "# Create new dataframe containing all the pair of electrons\n",
    "# Create an empty list to store the new rows\n",
    "new_rows = []\n",
    "\n",
    "# Iterate through each row of the original DataFrame\n",
    "# for index, row in sample.iterrows():\n",
    "\n",
    "time2_array = []\n",
    "start_loop = time.time()\n",
    "\n"
   ]
  }
 ],
 "metadata": {
  "kernelspec": {
   "display_name": "base",
   "language": "python",
   "name": "python3"
  },
  "language_info": {
   "codemirror_mode": {
    "name": "ipython",
    "version": 3
   },
   "file_extension": ".py",
   "mimetype": "text/x-python",
   "name": "python",
   "nbconvert_exporter": "python",
   "pygments_lexer": "ipython3",
   "version": "3.12.2"
  }
 },
 "nbformat": 4,
 "nbformat_minor": 2
}
