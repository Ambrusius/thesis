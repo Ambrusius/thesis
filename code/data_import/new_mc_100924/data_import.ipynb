{
 "cells": [
  {
   "cell_type": "code",
   "execution_count": 1,
   "metadata": {},
   "outputs": [],
   "source": [
    "import uproot\n",
    "import numpy as np\n",
    "import matplotlib.pyplot as plt\n",
    "import pandas as pd\n",
    "import os\n",
    "\n",
    "import mplhep as hep\n",
    "hep.style.use([hep.style.ATLAS])"
   ]
  },
  {
   "cell_type": "code",
   "execution_count": 5,
   "metadata": {},
   "outputs": [
    {
     "name": "stdout",
     "output_type": "stream",
     "text": [
      "['HZG_Tree;1', 'EventLoop_OutputStream_MxAOD;1', 'truthTree;1', 'EventLoop_FileExecuted;1', 'EventLoop_JobStats;1', 'histo_cutflow;1', 'histo_cutflow_wt;1', 'histo_cutflow_ee;1', 'histo_cutflow_eey;1', 'histo_cutflow_mumu;1', 'histo_cutflow_mumuy;1', 'histo_cutflow_ee_wt;1', 'histo_cutflow_eey_wt;1', 'histo_cutflow_mumu_wt;1', 'histo_cutflow_mumuy_wt;1', 'histo_cutflow_tautau;1', 'histo_trigger_pass;1', 'histo_trigger_pass_wt;1', 'histo_trigger_pass_match;1', 'histo_trigger_pass_match_wt;1', 'histo_trigger_denom;1', 'histo_trigger_denom_wt;1', 'histo_trigSF;1', 'cutflow_700770;1', 'cutflow_700770_w;1', 'cutflow_700770_w2;1', 'cutflow_700770_SOW;1', 'cutflow_700770_w_SOW;1', 'cutflow_700770_w2_SOW;1', 'TriggerEfficienciesPassed;1', 'TriggerEfficienciesMatched;1', 'EventLoop_RunTime;1', 'EventLoop_EventCount;1']\n"
     ]
    }
   ],
   "source": [
    "# Specify the path to the .root file\n",
    "file_path = \"/groups/hep/kinch/data/data_sep24/mc23a/eegamma/eegamma.root\"\n",
    "\n",
    "# Open the .root file\n",
    "root_file = uproot.open(file_path)\n",
    "\n",
    "print(root_file.keys())"
   ]
  }
 ],
 "metadata": {
  "kernelspec": {
   "display_name": "base",
   "language": "python",
   "name": "python3"
  },
  "language_info": {
   "codemirror_mode": {
    "name": "ipython",
    "version": 3
   },
   "file_extension": ".py",
   "mimetype": "text/x-python",
   "name": "python",
   "nbconvert_exporter": "python",
   "pygments_lexer": "ipython3",
   "version": "3.12.2"
  }
 },
 "nbformat": 4,
 "nbformat_minor": 2
}
