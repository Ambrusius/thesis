{
 "cells": [
  {
   "cell_type": "code",
   "execution_count": 10,
   "metadata": {},
   "outputs": [],
   "source": [
    "import os\n",
    "import numpy as np\n",
    "\n",
    "import pandas as pd\n",
    "\n",
    "path_ttbar_single = '/groups/hep/kinch/data/preprocessed_data/files_for_dual_models/ttbar/single'\n",
    "path_zee_single = '/groups/hep/kinch/data/preprocessed_data/files_for_dual_models/zee_deriv/single'\n",
    "\n",
    "path_ttbar_pairs = '/groups/hep/kinch/data/preprocessed_data/files_for_dual_models/ttbar/pairs'\n",
    "path_zee_pairs = '/groups/hep/kinch/data/preprocessed_data/files_for_dual_models/zee_deriv/pairs'\n",
    "\n",
    "files_ttbar_single = [f for f in os.listdir(path_ttbar_single) if f.endswith('.parquet')]\n",
    "files_zee_single = [f for f in os.listdir(path_zee_single) if f.endswith('.parquet')]\n",
    "\n",
    "files_ttbar_pairs = [f for f in os.listdir(path_ttbar_pairs) if f.endswith('.parquet')]\n",
    "files_zee_pairs = [f for f in os.listdir(path_zee_pairs) if f.endswith('.parquet')]\n",
    "\n",
    "def get_num_events(pathlist,basedir):\n",
    "    num_events = []\n",
    "    for path in pathlist:\n",
    "        df = pd.read_parquet(f'{basedir}/{path}')\n",
    "        num_events.append(len(df))\n",
    "    return num_events\n",
    "\n",
    "num_ttbar_single = get_num_events(files_ttbar_single, path_ttbar_single)\n",
    "num_zee_single = get_num_events(files_zee_single, path_zee_single)\n",
    "num_ttbar_pairs = get_num_events(files_ttbar_pairs, path_ttbar_pairs)\n",
    "num_zee_pairs = get_num_events(files_zee_pairs, path_zee_pairs)\n",
    "\n",
    "\n",
    "\n",
    "# Iso model and ID model must not train on same files, so we need to split the files into two sets, validation can be identical\n",
    "\n"
   ]
  },
  {
   "cell_type": "code",
   "execution_count": 11,
   "metadata": {},
   "outputs": [
    {
     "name": "stdout",
     "output_type": "stream",
     "text": [
      "6 [540469, 650686, 325256, 323553, 540936, 324761] ['DAOD_PHYS.36076748._000123.pool.root_single.parquet', 'DAOD_PHYS.36076748._000148.pool.root_single.parquet', 'DAOD_PHYS.36076748._000085.pool.root_single.parquet', 'DAOD_PHYS.36076748._000214.pool.root_single.parquet', 'DAOD_PHYS.36076748._000066.pool.root_single.parquet', 'DAOD_PHYS.36076748._000192.pool.root_single.parquet']\n",
      "14 [128849, 128671, 171872, 143025, 128780, 128953, 128942, 215326, 172263, 171899, 171697, 129149, 129147, 128679] ['DAOD_PHYS.40133840._000619.pool.root_single.parquet', 'DAOD_PHYS.40133840._000236.pool.root_single.parquet', 'DAOD_PHYS.40055511._000779.pool.root_single.parquet', 'DAOD_PHYS.40133840._000576.pool.root_single.parquet', 'DAOD_PHYS.40133840._000107.pool.root_single.parquet', 'DAOD_PHYS.40133840._000449.pool.root_single.parquet', 'DAOD_PHYS.40133840._000309.pool.root_single.parquet', 'DAOD_PHYS.40055511._000979.pool.root_single.parquet', 'DAOD_PHYS.40055511._000560.pool.root_single.parquet', 'DAOD_PHYS.40133840._000567.pool.root_single.parquet', 'DAOD_PHYS.40133840._000404.pool.root_single.parquet', 'DAOD_PHYS.40055511._000408.pool.root_single.parquet', 'DAOD_PHYS.40133840._000117.pool.root_single.parquet', 'DAOD_PHYS.40133840._000111.pool.root_single.parquet']\n",
      "6 [624476, 1262811, 630677, 1047080, 1043537, 629863] ['DAOD_PHYS.36076748._000214.pool.root_pairs.parquet', 'DAOD_PHYS.36076748._000148.pool.root_pairs.parquet', 'DAOD_PHYS.36076748._000085.pool.root_pairs.parquet', 'DAOD_PHYS.36076748._000066.pool.root_pairs.parquet', 'DAOD_PHYS.36076748._000123.pool.root_pairs.parquet', 'DAOD_PHYS.36076748._000192.pool.root_pairs.parquet']\n",
      "14 [94817, 118999, 70880, 71433, 70962, 71055, 71077, 70582, 78752, 94100, 95271, 94924, 71089, 70835] ['DAOD_PHYS.40133840._000567.pool.root_pairs.parquet', 'DAOD_PHYS.40055511._000979.pool.root_pairs.parquet', 'DAOD_PHYS.40133840._000236.pool.root_pairs.parquet', 'DAOD_PHYS.40055511._000408.pool.root_pairs.parquet', 'DAOD_PHYS.40133840._000111.pool.root_pairs.parquet', 'DAOD_PHYS.40133840._000449.pool.root_pairs.parquet', 'DAOD_PHYS.40133840._000117.pool.root_pairs.parquet', 'DAOD_PHYS.40133840._000107.pool.root_pairs.parquet', 'DAOD_PHYS.40133840._000576.pool.root_pairs.parquet', 'DAOD_PHYS.40133840._000404.pool.root_pairs.parquet', 'DAOD_PHYS.40055511._000560.pool.root_pairs.parquet', 'DAOD_PHYS.40055511._000779.pool.root_pairs.parquet', 'DAOD_PHYS.40133840._000619.pool.root_pairs.parquet', 'DAOD_PHYS.40133840._000309.pool.root_pairs.parquet']\n"
     ]
    }
   ],
   "source": [
    "print(len(files_ttbar_single),num_ttbar_single, files_ttbar_single)\n",
    "print(len(files_zee_single), num_zee_single, files_zee_single)\n",
    "\n",
    "print(len(files_ttbar_pairs), num_ttbar_pairs, files_ttbar_pairs)\n",
    "print(len(files_zee_pairs), num_zee_pairs, files_zee_pairs)"
   ]
  },
  {
   "cell_type": "code",
   "execution_count": 12,
   "metadata": {},
   "outputs": [
    {
     "name": "stdout",
     "output_type": "stream",
     "text": [
      "1.3025193861890614 4.575955470764586\n"
     ]
    }
   ],
   "source": [
    "print(np.sum(num_ttbar_single)/np.sum(num_zee_single), np.sum(num_ttbar_pairs)/np.sum(num_zee_pairs))"
   ]
  },
  {
   "cell_type": "code",
   "execution_count": 42,
   "metadata": {},
   "outputs": [
    {
     "name": "stdout",
     "output_type": "stream",
     "text": [
      "[0.08282581 0.10394959 0.06191604 0.06239911 0.06198767 0.06206891\n",
      " 0.06208813 0.06165573 0.0687925  0.08219949 0.08322239 0.08291928\n",
      " 0.06209861 0.06187673]\n",
      "0.083, set a\n",
      "0.187, set a\n",
      "0.249, set a\n",
      "0.311, set a\n",
      "0.373, set a\n",
      "0.435, set b\n",
      "0.497, set b\n",
      "0.559, set b\n",
      "0.628, set b\n",
      "0.710, set b\n",
      "0.793, set b\n",
      "0.876, set val\n",
      "0.938, set val\n",
      "1.000, set val\n",
      "[0 1 2 3 4] [ 5  6  7  8  9 10] [11 12 13]\n",
      "first set events: 427091, second set events: 480837, validation set events: 236848\n",
      "first set events: 701197, second set events: 989080, validation set events: 386975\n",
      "fractions of full dataset: first set: 0.37307822665744217, second set: 0.42002714941613034, validation set: 0.20689462392642752\n",
      "fractions of full dataset: first set: 0.3375599108822618, second set: 0.47614829592172736, validation set: 0.18629179319601089\n",
      "[0 1] [2 3] [4 5]\n",
      "first set events: 1887287, second set events: 1677757, validation set events: 1673400\n",
      "first set events: 1191155, second set events: 648809, validation set events: 865697\n",
      "fractions of full dataset: first set: 0.3602762576062663, second set: 0.32027773896218037, validation set: 0.3194460034315533\n",
      "fractions of full dataset: first set: 0.440245470515338, second set: 0.23979685555581426, validation set: 0.3199576739288477\n"
     ]
    }
   ],
   "source": [
    "print(np.array(num_zee_pairs)/np.sum(num_zee_pairs))\n",
    "frac = 1/2.3\n",
    "part_of_set = np.zeros(len(num_zee_pairs),dtype='U3')\n",
    "part_of_set_ttbar = np.zeros(len(num_ttbar_pairs),dtype='U3')\n",
    "for i in range(len(num_zee_pairs)):\n",
    "    sum = np.sum((np.array(num_zee_pairs)/np.sum(num_zee_pairs))[:i+1])\n",
    "    if sum < frac:\n",
    "        part_of_set[i] = 'a'\n",
    "    elif sum < 2*frac:\n",
    "        part_of_set[i] = 'b'\n",
    "    elif sum > 2*frac:\n",
    "        part_of_set[i] = 'val'\n",
    "    print(f'{sum:.3f}, set {part_of_set[i]}')\n",
    "for i in range(len(num_ttbar_pairs)):\n",
    "    sum_ttbar = np.sum((np.array(num_ttbar_pairs)/np.sum(num_ttbar_pairs))[:i+1])\n",
    "    if sum_ttbar < frac:\n",
    "        part_of_set_ttbar[i] = 'a'\n",
    "    elif sum_ttbar < 2*frac:\n",
    "        part_of_set_ttbar[i] = 'b'\n",
    "    elif sum_ttbar > 2*frac:\n",
    "        part_of_set_ttbar[i] = 'val'\n",
    "\n",
    "a_indices = np.where(part_of_set == 'a')[0]\n",
    "b_indices = np.where(part_of_set == 'b')[0]\n",
    "val_indices = np.where(part_of_set == 'val')[0]\n",
    "\n",
    "print(a_indices, b_indices, val_indices)\n",
    "num_zee_pairs = np.array(num_zee_pairs)\n",
    "num_zee_single = np.array(num_zee_single)\n",
    "\n",
    "# Sum the values for each set using the indices\n",
    "print(f'first set events: {np.sum(num_zee_pairs[a_indices])}, second set events: {np.sum(num_zee_pairs[b_indices])}, validation set events: {np.sum(num_zee_pairs[val_indices])}')\n",
    "print(f'first set events: {np.sum(num_zee_single[a_indices])}, second set events: {np.sum(num_zee_single[b_indices])}, validation set events: {np.sum(num_zee_single[val_indices])}')\n",
    "\n",
    "print(f'fractions of full dataset: first set: {np.sum(num_zee_pairs[a_indices])/np.sum(num_zee_pairs)}, second set: {np.sum(num_zee_pairs[b_indices])/np.sum(num_zee_pairs)}, validation set: {np.sum(num_zee_pairs[val_indices])/np.sum(num_zee_pairs)}')\n",
    "print(f'fractions of full dataset: first set: {np.sum(num_zee_single[a_indices])/np.sum(num_zee_single)}, second set: {np.sum(num_zee_single[b_indices])/np.sum(num_zee_single)}, validation set: {np.sum(num_zee_single[val_indices])/np.sum(num_zee_single)}')\n",
    "\n",
    "\n",
    "a_indices_ttbar = np.where(part_of_set_ttbar == 'a')[0]\n",
    "b_indices_ttbar = np.where(part_of_set_ttbar == 'b')[0]\n",
    "val_indices_ttbar = np.where(part_of_set_ttbar == 'val')[0]\n",
    "\n",
    "print(a_indices_ttbar, b_indices_ttbar, val_indices_ttbar)\n",
    "num_ttbar_pairs = np.array(num_ttbar_pairs)\n",
    "num_ttbar_single = np.array(num_ttbar_single)\n",
    "\n",
    "# Sum the values for each set using the indices\n",
    "print(f'first set events: {np.sum(num_ttbar_pairs[a_indices_ttbar])}, second set events: {np.sum(num_ttbar_pairs[b_indices_ttbar])}, validation set events: {np.sum(num_ttbar_pairs[val_indices_ttbar])}')\n",
    "print(f'first set events: {np.sum(num_ttbar_single[a_indices_ttbar])}, second set events: {np.sum(num_ttbar_single[b_indices_ttbar])}, validation set events: {np.sum(num_ttbar_single[val_indices_ttbar])}')\n",
    "\n",
    "print(f'fractions of full dataset: first set: {np.sum(num_ttbar_pairs[a_indices_ttbar])/np.sum(num_ttbar_pairs)}, second set: {np.sum(num_ttbar_pairs[b_indices_ttbar])/np.sum(num_ttbar_pairs)}, validation set: {np.sum(num_ttbar_pairs[val_indices_ttbar])/np.sum(num_ttbar_pairs)}')\n",
    "print(f'fractions of full dataset: first set: {np.sum(num_ttbar_single[a_indices_ttbar])/np.sum(num_ttbar_single)}, second set: {np.sum(num_ttbar_single[b_indices_ttbar])/np.sum(num_ttbar_single)}, validation set: {np.sum(num_ttbar_single[val_indices_ttbar])/np.sum(num_ttbar_single)}')"
   ]
  },
  {
   "cell_type": "markdown",
   "metadata": {},
   "source": [
    "$$\n",
    "    2\\cdot x+0.3\\cdot x=1 \\Rightarrow x=\\frac{1}{2.3}\\Rightarrow x = 0.4347826086956522\n",
    "$$"
   ]
  }
 ],
 "metadata": {
  "kernelspec": {
   "display_name": "base",
   "language": "python",
   "name": "python3"
  },
  "language_info": {
   "codemirror_mode": {
    "name": "ipython",
    "version": 3
   },
   "file_extension": ".py",
   "mimetype": "text/x-python",
   "name": "python",
   "nbconvert_exporter": "python",
   "pygments_lexer": "ipython3",
   "version": "3.12.5"
  }
 },
 "nbformat": 4,
 "nbformat_minor": 2
}
